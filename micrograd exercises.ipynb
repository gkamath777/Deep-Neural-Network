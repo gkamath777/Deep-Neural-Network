{
 "cells": [
  {
   "cell_type": "code",
   "execution_count": 50,
   "id": "59f79b8d",
   "metadata": {},
   "outputs": [
    {
     "name": "stdout",
     "output_type": "stream",
     "text": [
      "6.336362190988558\n"
     ]
    }
   ],
   "source": [
    "# here is a mathematical expression that takes 3 inputs and produces one output\n",
    "from math import sin, cos\n",
    "\n",
    "def f(a, b, c):\n",
    "  return -a**3 + sin(3*b) - 1.0/c + b**2.5 - a**0.5\n",
    "\n",
    "print(f(2, 3, 4))"
   ]
  },
  {
   "cell_type": "code",
   "execution_count": 51,
   "id": "2cae0a4d",
   "metadata": {},
   "outputs": [
    {
     "data": {
      "text/plain": [
       "1.0"
      ]
     },
     "execution_count": 51,
     "metadata": {},
     "output_type": "execute_result"
    }
   ],
   "source": [
    "import math, cmath\n",
    "def root(a):\n",
    "    \"\"\"Return sqrt(a). Uses real sqrt for a>=0, complex sqrt for a<0.\"\"\"\n",
    "    return math.sqrt(a) if a >= 0 else cmath.sqrt(a)\n",
    "\n",
    "root(1)"
   ]
  },
  {
   "cell_type": "code",
   "execution_count": 52,
   "id": "b7a1faa7",
   "metadata": {},
   "outputs": [
    {
     "name": "stdout",
     "output_type": "stream",
     "text": [
      "OK for dim 0: expected -12.353553390593273, yours returns -12.353553390593273\n",
      "OK for dim 1: expected 10.25699027111255, yours returns 10.256990271112548\n",
      "OK for dim 2: expected 0.0625, yours returns 0.0625\n"
     ]
    }
   ],
   "source": [
    "# write the function df that returns the analytical gradient of f\n",
    "# i.e. use your skills from calculus to take the derivative, then implement the formula\n",
    "# if you do not calculus then feel free to ask wolframalpha, e.g.:\n",
    "# https://www.wolframalpha.com/input?i=d%2Fda%28sin%283*a%29%29%29\n",
    "\n",
    "\n",
    "def gradf(a, b, c):\n",
    "  return [-3*a**2 - 1/(2 * root(a)), 3*cos(3*b)+ 2.5*b*root(b), c**-2] # todo, return [df/da, df/db, df/dc]\n",
    "\n",
    "# expected answer is the list of \n",
    "ans = [-12.353553390593273, 10.25699027111255, 0.0625]\n",
    "yours = gradf(2, 3, 4)\n",
    "for dim in range(3):\n",
    "  ok = 'OK' if abs(yours[dim] - ans[dim]) < 1e-5 else 'WRONG!'\n",
    "  print(f\"{ok} for dim {dim}: expected {ans[dim]}, yours returns {yours[dim]}\")"
   ]
  },
  {
   "cell_type": "code",
   "execution_count": 105,
   "id": "bc74ffd7",
   "metadata": {},
   "outputs": [
    {
     "name": "stdout",
     "output_type": "stream",
     "text": [
      "OK for dim 0: expected -12.353553390593273, yours returns -12.353553391353245\n",
      "OK for dim 1: expected 10.25699027111255, yours returns 10.256990273571631\n",
      "OK for dim 2: expected 0.0625, yours returns 0.06250000028629188\n"
     ]
    }
   ],
   "source": [
    "# now estimate the gradient numerically without any calculus, using\n",
    "# the approximation we used in the video.\n",
    "# you should not call the function df from the last cell\n",
    "\n",
    "# -----------\n",
    "#numerical_grad = [0, 0, 0] # TODO\n",
    "# -----------\n",
    "\n",
    "'''\n",
    "h = 1e-6\n",
    "\n",
    "a = 2\n",
    "b = 3\n",
    "c = 4\n",
    "\n",
    "print(h)\n",
    "d1 = f(a, b, c)\n",
    "print(d1)\n",
    "a += a + h\n",
    "d2 = f(a, b, c)\n",
    "print(d2)\n",
    "l1 = (d2-d1)/h\n",
    "print(l1)\n",
    "a += a-h\n",
    "d1 = f(a, b, c)\n",
    "b += b + h\n",
    "d3 = f(a, b, c)\n",
    "l2 = (d3-d1)/h\n",
    "\n",
    "b += b-h\n",
    "d1 = f(a, b, c)\n",
    "c += c + h\n",
    "d4 = f(a, b, c)\n",
    "l3 = (d4-d1)/h\n",
    "\n",
    "numerical_grad = [l1, l2, l3]\n",
    "'''\n",
    "\n",
    "# point where we want the gradient\n",
    "a0, b0, c0 = 2.0, 3.0, 4.0\n",
    "\n",
    "# central-difference step\n",
    "h = 1e-6\n",
    "\n",
    "# compute numerical gradient of f at (a0,b0,c0)\n",
    "x = [a0, b0, c0]\n",
    "numerical_grad = [0.0, 0.0, 0.0]\n",
    "for i in range(3):\n",
    "    xp = x.copy(); xp[i] += h\n",
    "    xm = x.copy(); xm[i] -= h\n",
    "    numerical_grad[i] = (f(*xp) - f(*xm)) / (2*h)\n",
    "\n",
    "for dim in range(3):\n",
    "  ok = 'OK' if abs(numerical_grad[dim] - ans[dim]) < 1e-5 else 'WRONG!'\n",
    "  print(f\"{ok} for dim {dim}: expected {ans[dim]}, yours returns {numerical_grad[dim]}\")\n"
   ]
  },
  {
   "cell_type": "code",
   "execution_count": null,
   "id": "623c40af",
   "metadata": {},
   "outputs": [],
   "source": []
  },
  {
   "cell_type": "code",
   "execution_count": null,
   "id": "0e9e0591",
   "metadata": {},
   "outputs": [],
   "source": []
  }
 ],
 "metadata": {
  "kernelspec": {
   "display_name": "Python 3 (ipykernel)",
   "language": "python",
   "name": "python3"
  },
  "language_info": {
   "codemirror_mode": {
    "name": "ipython",
    "version": 3
   },
   "file_extension": ".py",
   "mimetype": "text/x-python",
   "name": "python",
   "nbconvert_exporter": "python",
   "pygments_lexer": "ipython3",
   "version": "3.9.12"
  }
 },
 "nbformat": 4,
 "nbformat_minor": 5
}
